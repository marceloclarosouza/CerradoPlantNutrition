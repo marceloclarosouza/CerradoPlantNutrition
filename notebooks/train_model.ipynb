{
 "cells": [
  {
   "cell_type": "code",
   "execution_count": 1,
   "metadata": {},
   "outputs": [],
   "source": [
    "import pandas as pd\n",
    "import os\n",
    "import logging\n",
    "import numpy as np\n",
    "import seaborn as sns\n",
    "import matplotlib.pyplot as plt\n",
    "import pickle\n",
    "\n",
    "from sklearn.model_selection import train_test_split\n",
    "from sklearn.ensemble import RandomForestClassifier\n",
    "from sklearn import metrics\n",
    "from sklearn.metrics import classification_report\n",
    "from sklearn.metrics import confusion_matrix\n",
    "\n"
   ]
  },
  {
   "cell_type": "code",
   "execution_count": 2,
   "metadata": {},
   "outputs": [],
   "source": [
    "class DataAquisition():\n",
    "\n",
    "    def __init__(self, path, sep=None, decimal=None):\n",
    "        self.df = pd.read_csv(path, sep=sep, decimal=decimal)\n",
    "        "
   ]
  },
  {
   "cell_type": "code",
   "execution_count": 3,
   "metadata": {},
   "outputs": [],
   "source": [
    "class DataPreparation():\n",
    "\n",
    "    def __init__(self, data):\n",
    "        self.data = data\n",
    "\n",
    "    def data_subset(self, subset):\n",
    "        try:\n",
    "            self.df = self.data[subset]\n",
    "            return self.df\n",
    "            \n",
    "        except Exception as e:\n",
    "            msg = f\"Error to prepare the subset: {type(e)}, {str(e)}\"\n",
    "            logging.error(msg, exc_info=True)\n",
    "\n",
    "    def drop_nan(self, axis=None, how=None):\n",
    "        try:\n",
    "            df = self.data.dropna(axis=axis, how=how)\n",
    "            return df\n",
    "\n",
    "        except Exception as e:\n",
    "            msg = f\"Error to remove NAN: {type(e)}, {str(e)}\"\n",
    "            logging.error(msg, exc_info=True)\n",
    "\n",
    "    def remove_outlier(self, subset, n_std=3):\n",
    "        try:\n",
    "            for col in subset[:-1]:\n",
    "                mean_value = self.data[col].mean()\n",
    "                sd = self.data[col].std()\n",
    "                df = self.data[(self.data[col] <= mean_value + (n_std * sd))]\n",
    "            \n",
    "            return df\n",
    "        \n",
    "        except Exception as e:\n",
    "            msg = f\"Error to remove outlier: {type(e)}, {str(e)}\"\n",
    "            logging.error(msg, exc_info=True)\n",
    "\n",
    "    def smooth_data(self, subset, alpha, adjust=True):\n",
    "        try:\n",
    "            for col in subset[:-1]:\n",
    "                self.data[col] = self.data[col].ewm(\n",
    "                    alpha=alpha, adjust=adjust).mean()\n",
    "            return self.data\n",
    "\n",
    "        except Exception as e:\n",
    "            msg = f\"Error to smooth data: {type(e)}, {str(e)}\"\n",
    "            logging.error(msg, exc_info=True)\n",
    "\n",
    "    "
   ]
  },
  {
   "cell_type": "code",
   "execution_count": 4,
   "metadata": {},
   "outputs": [],
   "source": [
    "class Model():\n",
    "\n",
    "    def __init__(self, data):\n",
    "        self.data = data\n",
    "\n",
    "    def data_split_train(self, variables, predictor, test_size=0.3, random_state=0):\n",
    "\n",
    "        X = self.data[variables]\n",
    "        y = self.data[predictor]\n",
    "\n",
    "        X_train, X_test, y_train, y_test = train_test_split(X, y, test_size=test_size,\n",
    "                                                            random_state=random_state,\n",
    "                                                            stratify=y)\n",
    "\n",
    "        data_split = {\n",
    "            \"X_train\" : X_train,\n",
    "            \"X_test\": X_test,\n",
    "            \"y_train\": y_train,\n",
    "            \"y_test\": y_test\n",
    "        }\n",
    "\n",
    "        return data_split\n",
    "\n",
    "    def train_random_forest_classification(self, n_estimators=100, n_jobs=-1, random_state=0):\n",
    "        model = RandomForestClassifier(n_estimators=n_estimators,\n",
    "                                       random_state=random_state,\n",
    "                                       n_jobs=n_jobs)\n",
    "        model.fit(self.data[\"X_train\"], self.data[\"y_train\"])\n",
    "\n",
    "        return model\n",
    "\n",
    "    def model_y_pred(self, model):\n",
    "        y_pred = model.predict(self.data[\"X_test\"])\n",
    "\n",
    "        return y_pred\n",
    "\n",
    "\n",
    "    def model_accuracy_score(self, y_pred):\n",
    "        model_accuracy = metrics.accuracy_score(self.data[\"y_test\"], y_pred)\n",
    "\n",
    "        return model_accuracy\n",
    "\n",
    "\n",
    "    def model_feature_score(self, model):\n",
    "        feature_scores = pd.Series(model.feature_importances_, \n",
    "                                   index=self.data[\"X_train\"].columns).sort_values(ascending=False)\n",
    "        return feature_scores\n",
    "\n",
    "    def model_classification_report(self, y_pred):\n",
    "        report = classification_report(self.data[\"y_test\"], y_pred)\n",
    "        print(report)\n",
    "\n",
    "        return report"
   ]
  },
  {
   "cell_type": "code",
   "execution_count": 5,
   "metadata": {},
   "outputs": [],
   "source": [
    "class GraphicalAnalysis():\n",
    "\n",
    "    def feature_barplot(self, feature_score):\n",
    "        sns.barplot(x=feature_score, y=feature_score.index)\n",
    "        plt.xlabel(\"Feature Importance Score\")\n",
    "        plt.ylabel(\"Feature\")\n",
    "        plt.show()\n",
    "\n",
    "    def feature_confusion_matrix(self, y_pred, data):\n",
    "        cm = confusion_matrix(data[\"y_test\"], y_pred, normalize=\"true\")\n",
    "        np.set_printoptions(precision=2)\n",
    "        return cm\n",
    "\n",
    "    def feature_heatmap(self, cm):\n",
    "        sns.heatmap(cm, annot=True, fmt=\".2f\", cmap=\"YlGnBu\")\n",
    "        plt.show()"
   ]
  },
  {
   "cell_type": "code",
   "execution_count": 6,
   "metadata": {},
   "outputs": [],
   "source": [
    "class SaveModel():\n",
    "\n",
    "    def save_model(self, model):\n",
    "        pickle.dump(model, open(\"/home/marcelo/Documents/CerradoPlantNutrition/model/model.pkl\", \"wb\"))\n"
   ]
  },
  {
   "attachments": {},
   "cell_type": "markdown",
   "metadata": {},
   "source": [
    "## Main()"
   ]
  },
  {
   "cell_type": "code",
   "execution_count": 7,
   "metadata": {},
   "outputs": [],
   "source": [
    "path = os.path.normpath(\"/home/marcelo/Documents/CerradoPlantNutrition/sample/cerrado_physionomies.csv\")\n",
    "    \n",
    "#data aquisition\n",
    "data_aq = DataAquisition(path, sep=\",\", decimal=\".\")\n",
    "df = pd.DataFrame(data_aq.df)"
   ]
  },
  {
   "cell_type": "code",
   "execution_count": 8,
   "metadata": {},
   "outputs": [],
   "source": [
    "#data preparation\n",
    "subset = [\"N(g kg-1)\",\"P(g kg-1)\",\"K(g kg-1)\",\"Ca(g kg-1)\",\"Mg(g kg-1)\",\"Fe(mg kg-1)\",\"Mn(mg kg-1)\",\"Vegetation\"]\n",
    "\n",
    "data_subset = DataPreparation(df).data_subset(subset)"
   ]
  },
  {
   "cell_type": "code",
   "execution_count": 9,
   "metadata": {},
   "outputs": [],
   "source": [
    "data_drop_nan = DataPreparation(data_subset).drop_nan(axis=0, how=\"any\")"
   ]
  },
  {
   "cell_type": "code",
   "execution_count": 10,
   "metadata": {},
   "outputs": [],
   "source": [
    "data_remove_outlier = DataPreparation(data_drop_nan).remove_outlier(subset, n_std=3)"
   ]
  },
  {
   "cell_type": "code",
   "execution_count": 11,
   "metadata": {},
   "outputs": [
    {
     "name": "stderr",
     "output_type": "stream",
     "text": [
      "/tmp/ipykernel_10260/2656117650.py:40: SettingWithCopyWarning: \n",
      "A value is trying to be set on a copy of a slice from a DataFrame.\n",
      "Try using .loc[row_indexer,col_indexer] = value instead\n",
      "\n",
      "See the caveats in the documentation: https://pandas.pydata.org/pandas-docs/stable/user_guide/indexing.html#returning-a-view-versus-a-copy\n",
      "  self.data[col] = self.data[col].ewm(\n"
     ]
    }
   ],
   "source": [
    "data_smoothed = DataPreparation(data_remove_outlier).smooth_data(subset, alpha=0.5, adjust=True)\n"
   ]
  },
  {
   "cell_type": "code",
   "execution_count": 12,
   "metadata": {},
   "outputs": [],
   "source": [
    "#spliting data\n",
    "split_data = Model(data_smoothed).data_split_train(subset[:-1], subset[-1],\n",
    "                                                         test_size=0.3, random_state=0)"
   ]
  },
  {
   "cell_type": "code",
   "execution_count": 13,
   "metadata": {},
   "outputs": [],
   "source": [
    "#training model\n",
    "train_model = Model(split_data).train_random_forest_classification(n_jobs=-1, random_state=0)\n"
   ]
  },
  {
   "cell_type": "code",
   "execution_count": 14,
   "metadata": {},
   "outputs": [],
   "source": [
    "y_pred = Model(split_data).model_y_pred(train_model)"
   ]
  },
  {
   "cell_type": "code",
   "execution_count": 15,
   "metadata": {},
   "outputs": [
    {
     "name": "stdout",
     "output_type": "stream",
     "text": [
      "0.9304347826086956\n"
     ]
    }
   ],
   "source": [
    "model_accuracy = Model(split_data).model_accuracy_score(y_pred)\n",
    "\n",
    "print(model_accuracy)"
   ]
  },
  {
   "cell_type": "code",
   "execution_count": 16,
   "metadata": {},
   "outputs": [
    {
     "name": "stdout",
     "output_type": "stream",
     "text": [
      "P(g kg-1)      0.245361\n",
      "K(g kg-1)      0.219511\n",
      "N(g kg-1)      0.214080\n",
      "Mg(g kg-1)     0.136702\n",
      "Ca(g kg-1)     0.117998\n",
      "Fe(mg kg-1)    0.039611\n",
      "Mn(mg kg-1)    0.026737\n",
      "dtype: float64\n"
     ]
    }
   ],
   "source": [
    "feature_score = Model(split_data).model_feature_score(train_model)\n",
    "\n",
    "print(feature_score)"
   ]
  },
  {
   "cell_type": "code",
   "execution_count": 17,
   "metadata": {},
   "outputs": [
    {
     "name": "stdout",
     "output_type": "stream",
     "text": [
      "                    precision    recall  f1-score   support\n",
      "\n",
      "          cerradao       0.50      0.29      0.36         7\n",
      "           cerrado       0.80      0.67      0.73         6\n",
      "              mata       1.00      1.00      1.00        48\n",
      "mata_semi_descidua       0.91      0.98      0.95        54\n",
      "\n",
      "          accuracy                           0.93       115\n",
      "         macro avg       0.80      0.73      0.76       115\n",
      "      weighted avg       0.92      0.93      0.92       115\n",
      "\n",
      "                    precision    recall  f1-score   support\n",
      "\n",
      "          cerradao       0.50      0.29      0.36         7\n",
      "           cerrado       0.80      0.67      0.73         6\n",
      "              mata       1.00      1.00      1.00        48\n",
      "mata_semi_descidua       0.91      0.98      0.95        54\n",
      "\n",
      "          accuracy                           0.93       115\n",
      "         macro avg       0.80      0.73      0.76       115\n",
      "      weighted avg       0.92      0.93      0.92       115\n",
      "\n"
     ]
    }
   ],
   "source": [
    "classification_report = Model(split_data).model_classification_report(y_pred)\n",
    "\n",
    "print(classification_report)"
   ]
  },
  {
   "cell_type": "code",
   "execution_count": 18,
   "metadata": {},
   "outputs": [
    {
     "data": {
      "image/png": "[encoded data removed]",
      "text/plain": [
       "<Figure size 432x288 with 1 Axes>"
      ]
     },
     "metadata": {
      "needs_background": "light"
     },
     "output_type": "display_data"
    }
   ],
   "source": [
    "##Graphical analysis\n",
    "GraphicalAnalysis().feature_barplot(feature_score)"
   ]
  },
  {
   "cell_type": "code",
   "execution_count": 19,
   "metadata": {},
   "outputs": [
    {
     "data": {
      "image/png": "[encoded data removed]",
      "text/plain": [
       "<Figure size 432x288 with 2 Axes>"
      ]
     },
     "metadata": {
      "needs_background": "light"
     },
     "output_type": "display_data"
    }
   ],
   "source": [
    "conf_matrix = GraphicalAnalysis().feature_confusion_matrix(y_pred, split_data)\n",
    "\n",
    "GraphicalAnalysis().feature_heatmap(conf_matrix)"
   ]
  },
  {
   "cell_type": "code",
   "execution_count": 20,
   "metadata": {},
   "outputs": [],
   "source": [
    "#saving the model\n",
    "SaveModel().save_model(train_model)"
   ]
  }
 ],
 "metadata": {
  "kernelspec": {
   "display_name": "env",
   "language": "python",
   "name": "python3"
  },
  "language_info": {
   "codemirror_mode": {
    "name": "ipython",
    "version": 3
   },
   "file_extension": ".py",
   "mimetype": "text/x-python",
   "name": "python",
   "nbconvert_exporter": "python",
   "pygments_lexer": "ipython3",
   "version": "3.8.15"
  },
  "orig_nbformat": 4,
  "vscode": {
   "interpreter": {
    "hash": "d4ffdde9ec23134b04ffb87ef4368d2155acdbee66ca75be63b46687aa92b038"
   }
  }
 },
 "nbformat": 4,
 "nbformat_minor": 2
}
