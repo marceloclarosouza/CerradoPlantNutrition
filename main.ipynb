{
 "cells": [
  {
   "cell_type": "markdown",
   "metadata": {},
   "source": [
    "# Cerrado Physiognomy Classification - Random Forest Classifier"
   ]
  },
  {
   "cell_type": "markdown",
   "metadata": {},
   "source": [
    "#### Data treatment"
   ]
  },
  {
   "cell_type": "code",
   "execution_count": 1,
   "metadata": {},
   "outputs": [],
   "source": [
    "import numpy as np\n",
    "import pandas as pd"
   ]
  },
  {
   "cell_type": "code",
   "execution_count": 4,
   "metadata": {},
   "outputs": [],
   "source": [
    "df = pd.read_csv(\"data.csv\")"
   ]
  },
  {
   "cell_type": "code",
   "execution_count": 5,
   "metadata": {},
   "outputs": [
    {
     "name": "stdout",
     "output_type": "stream",
     "text": [
      "<class 'pandas.core.frame.DataFrame'>\n",
      "RangeIndex: 468 entries, 0 to 467\n",
      "Data columns (total 16 columns):\n",
      " #   Column      Non-Null Count  Dtype  \n",
      "---  ------      --------------  -----  \n",
      " 0   references  468 non-null    object \n",
      " 1   vegetation  468 non-null    object \n",
      " 2   local       468 non-null    object \n",
      " 3   family      465 non-null    object \n",
      " 4   specie      468 non-null    object \n",
      " 5   month       468 non-null    object \n",
      " 6   nitrogen    463 non-null    float64\n",
      " 7   phosphorus  468 non-null    float64\n",
      " 8   potassium   468 non-null    float64\n",
      " 9   calcium     468 non-null    float64\n",
      " 10  magnesium   468 non-null    float64\n",
      " 11  iron        398 non-null    float64\n",
      " 12  manganese   398 non-null    float64\n",
      " 13  zinc        233 non-null    float64\n",
      " 14  copper      233 non-null    float64\n",
      " 15  aluminum    468 non-null    int64  \n",
      "dtypes: float64(9), int64(1), object(6)\n",
      "memory usage: 58.6+ KB\n"
     ]
    }
   ],
   "source": [
    "df.info()"
   ]
  },
  {
   "cell_type": "code",
   "execution_count": 6,
   "metadata": {},
   "outputs": [
    {
     "data": {
      "text/html": [
       "<div>\n",
       "<style scoped>\n",
       "    .dataframe tbody tr th:only-of-type {\n",
       "        vertical-align: middle;\n",
       "    }\n",
       "\n",
       "    .dataframe tbody tr th {\n",
       "        vertical-align: top;\n",
       "    }\n",
       "\n",
       "    .dataframe thead th {\n",
       "        text-align: right;\n",
       "    }\n",
       "</style>\n",
       "<table border=\"1\" class=\"dataframe\">\n",
       "  <thead>\n",
       "    <tr style=\"text-align: right;\">\n",
       "      <th></th>\n",
       "      <th>references</th>\n",
       "      <th>vegetation</th>\n",
       "      <th>local</th>\n",
       "      <th>family</th>\n",
       "      <th>specie</th>\n",
       "      <th>month</th>\n",
       "      <th>nitrogen</th>\n",
       "      <th>phosphorus</th>\n",
       "      <th>potassium</th>\n",
       "      <th>calcium</th>\n",
       "      <th>magnesium</th>\n",
       "      <th>iron</th>\n",
       "      <th>manganese</th>\n",
       "      <th>zinc</th>\n",
       "      <th>copper</th>\n",
       "      <th>aluminum</th>\n",
       "    </tr>\n",
       "  </thead>\n",
       "  <tbody>\n",
       "    <tr>\n",
       "      <th>0</th>\n",
       "      <td>Ribeiro, J.F. (1983)</td>\n",
       "      <td>Cerrado</td>\n",
       "      <td>CPAC, EMBRAPA</td>\n",
       "      <td>1.21</td>\n",
       "      <td>Qualea parviflora Mart.</td>\n",
       "      <td>may</td>\n",
       "      <td>12.1</td>\n",
       "      <td>0.56</td>\n",
       "      <td>3.7</td>\n",
       "      <td>5.3</td>\n",
       "      <td>1.9</td>\n",
       "      <td>112.0</td>\n",
       "      <td>194.0</td>\n",
       "      <td>15.9</td>\n",
       "      <td>4.16</td>\n",
       "      <td>14353</td>\n",
       "    </tr>\n",
       "    <tr>\n",
       "      <th>1</th>\n",
       "      <td>Ribeiro, J.F. (1983)</td>\n",
       "      <td>Cerrado</td>\n",
       "      <td>CPAC, EMBRAPA</td>\n",
       "      <td>1.31</td>\n",
       "      <td>Qualea grandiflora Mart.</td>\n",
       "      <td>may</td>\n",
       "      <td>13.1</td>\n",
       "      <td>0.67</td>\n",
       "      <td>4.2</td>\n",
       "      <td>5.0</td>\n",
       "      <td>2.0</td>\n",
       "      <td>118.0</td>\n",
       "      <td>118.0</td>\n",
       "      <td>16.6</td>\n",
       "      <td>3.13</td>\n",
       "      <td>5500</td>\n",
       "    </tr>\n",
       "    <tr>\n",
       "      <th>2</th>\n",
       "      <td>Ribeiro, J.F. (1983)</td>\n",
       "      <td>Cerrado</td>\n",
       "      <td>CPAC, EMBRAPA</td>\n",
       "      <td>1.56</td>\n",
       "      <td>Annona crassiflora Mart.</td>\n",
       "      <td>may</td>\n",
       "      <td>15.6</td>\n",
       "      <td>0.76</td>\n",
       "      <td>5.4</td>\n",
       "      <td>6.4</td>\n",
       "      <td>1.7</td>\n",
       "      <td>77.0</td>\n",
       "      <td>82.0</td>\n",
       "      <td>18.5</td>\n",
       "      <td>3.33</td>\n",
       "      <td>184</td>\n",
       "    </tr>\n",
       "    <tr>\n",
       "      <th>3</th>\n",
       "      <td>Ribeiro, J.F. (1983)</td>\n",
       "      <td>Cerrado</td>\n",
       "      <td>CPAC, EMBRAPA</td>\n",
       "      <td>1.39</td>\n",
       "      <td>Caryocar brasiliense A.St.-Hil.</td>\n",
       "      <td>may</td>\n",
       "      <td>13.9</td>\n",
       "      <td>0.72</td>\n",
       "      <td>2.9</td>\n",
       "      <td>5.2</td>\n",
       "      <td>2.3</td>\n",
       "      <td>153.0</td>\n",
       "      <td>60.0</td>\n",
       "      <td>15.6</td>\n",
       "      <td>2.13</td>\n",
       "      <td>310</td>\n",
       "    </tr>\n",
       "    <tr>\n",
       "      <th>4</th>\n",
       "      <td>Ribeiro, J.F. (1983)</td>\n",
       "      <td>Cerrado</td>\n",
       "      <td>CPAC, EMBRAPA</td>\n",
       "      <td>2.62</td>\n",
       "      <td>Dimorphandra mollis Benth.</td>\n",
       "      <td>may</td>\n",
       "      <td>26.2</td>\n",
       "      <td>0.40</td>\n",
       "      <td>3.0</td>\n",
       "      <td>1.5</td>\n",
       "      <td>1.0</td>\n",
       "      <td>184.0</td>\n",
       "      <td>18.0</td>\n",
       "      <td>15.2</td>\n",
       "      <td>1.97</td>\n",
       "      <td>410</td>\n",
       "    </tr>\n",
       "  </tbody>\n",
       "</table>\n",
       "</div>"
      ],
      "text/plain": [
       "             references vegetation          local family  \\\n",
       "0  Ribeiro, J.F. (1983)    Cerrado  CPAC, EMBRAPA   1.21   \n",
       "1  Ribeiro, J.F. (1983)    Cerrado  CPAC, EMBRAPA   1.31   \n",
       "2  Ribeiro, J.F. (1983)    Cerrado  CPAC, EMBRAPA   1.56   \n",
       "3  Ribeiro, J.F. (1983)    Cerrado  CPAC, EMBRAPA   1.39   \n",
       "4  Ribeiro, J.F. (1983)    Cerrado  CPAC, EMBRAPA   2.62   \n",
       "\n",
       "                            specie month  nitrogen  phosphorus  potassium  \\\n",
       "0          Qualea parviflora Mart.   may      12.1        0.56        3.7   \n",
       "1         Qualea grandiflora Mart.   may      13.1        0.67        4.2   \n",
       "2         Annona crassiflora Mart.   may      15.6        0.76        5.4   \n",
       "3  Caryocar brasiliense A.St.-Hil.   may      13.9        0.72        2.9   \n",
       "4       Dimorphandra mollis Benth.   may      26.2        0.40        3.0   \n",
       "\n",
       "   calcium  magnesium   iron  manganese  zinc  copper  aluminum  \n",
       "0      5.3        1.9  112.0      194.0  15.9    4.16     14353  \n",
       "1      5.0        2.0  118.0      118.0  16.6    3.13      5500  \n",
       "2      6.4        1.7   77.0       82.0  18.5    3.33       184  \n",
       "3      5.2        2.3  153.0       60.0  15.6    2.13       310  \n",
       "4      1.5        1.0  184.0       18.0  15.2    1.97       410  "
      ]
     },
     "execution_count": 6,
     "metadata": {},
     "output_type": "execute_result"
    }
   ],
   "source": [
    "df.head()"
   ]
  },
  {
   "cell_type": "code",
   "execution_count": 16,
   "metadata": {},
   "outputs": [],
   "source": [
    "df2 = df.copy()"
   ]
  },
  {
   "cell_type": "code",
   "execution_count": null,
   "metadata": {},
   "outputs": [],
   "source": [
    "for d in df2:\n",
    "    print(df2[d].value_counts())"
   ]
  },
  {
   "cell_type": "code",
   "execution_count": 61,
   "metadata": {},
   "outputs": [],
   "source": [
    "# Selecting the features\n",
    "df3 = df2[[\"vegetation\", \"nitrogen\", \"phosphorus\", \"potassium\", \"calcium\"]]"
   ]
  },
  {
   "cell_type": "code",
   "execution_count": 57,
   "metadata": {},
   "outputs": [
    {
     "name": "stdout",
     "output_type": "stream",
     "text": [
      "<class 'pandas.core.frame.DataFrame'>\n",
      "RangeIndex: 468 entries, 0 to 467\n",
      "Data columns (total 5 columns):\n",
      " #   Column      Non-Null Count  Dtype  \n",
      "---  ------      --------------  -----  \n",
      " 0   vegetation  468 non-null    object \n",
      " 1   nitrogen    463 non-null    float64\n",
      " 2   phosphorus  468 non-null    float64\n",
      " 3   potassium   468 non-null    float64\n",
      " 4   calcium     468 non-null    float64\n",
      "dtypes: float64(4), object(1)\n",
      "memory usage: 18.4+ KB\n"
     ]
    }
   ],
   "source": [
    "df3.info()"
   ]
  },
  {
   "cell_type": "code",
   "execution_count": 62,
   "metadata": {},
   "outputs": [
    {
     "name": "stderr",
     "output_type": "stream",
     "text": [
      "/tmp/ipykernel_7934/104729926.py:3: FutureWarning: In a future version of pandas all arguments of DataFrame.drop except for the argument 'labels' will be keyword-only.\n",
      "  df3.drop(df_index, 0, inplace=True)\n",
      "/tmp/ipykernel_7934/104729926.py:3: SettingWithCopyWarning: \n",
      "A value is trying to be set on a copy of a slice from a DataFrame\n",
      "\n",
      "See the caveats in the documentation: https://pandas.pydata.org/pandas-docs/stable/user_guide/indexing.html#returning-a-view-versus-a-copy\n",
      "  df3.drop(df_index, 0, inplace=True)\n"
     ]
    }
   ],
   "source": [
    "# Dropping rows with NAN\n",
    "df_index = df3.index[df3.isnull().any(axis=1)]\n",
    "df3.drop(df_index, 0, inplace=True)"
   ]
  },
  {
   "cell_type": "code",
   "execution_count": 63,
   "metadata": {},
   "outputs": [
    {
     "name": "stdout",
     "output_type": "stream",
     "text": [
      "<class 'pandas.core.frame.DataFrame'>\n",
      "Int64Index: 463 entries, 0 to 467\n",
      "Data columns (total 5 columns):\n",
      " #   Column      Non-Null Count  Dtype  \n",
      "---  ------      --------------  -----  \n",
      " 0   vegetation  463 non-null    object \n",
      " 1   nitrogen    463 non-null    float64\n",
      " 2   phosphorus  463 non-null    float64\n",
      " 3   potassium   463 non-null    float64\n",
      " 4   calcium     463 non-null    float64\n",
      "dtypes: float64(4), object(1)\n",
      "memory usage: 21.7+ KB\n"
     ]
    }
   ],
   "source": [
    "df3.info()"
   ]
  },
  {
   "cell_type": "code",
   "execution_count": 64,
   "metadata": {},
   "outputs": [
    {
     "data": {
      "text/plain": [
       "array(['Cerrado', 'Cerradão', 'Mata', 'Mata Mes. Semidec.',\n",
       "       'campo cerrado', 'campo sujo', 'mata semidecícua',\n",
       "       'cerradão mesotrófico', 'cerrado sensu stricto', 'cerrado denso',\n",
       "       'cerradão distrófico'], dtype=object)"
      ]
     },
     "execution_count": 64,
     "metadata": {},
     "output_type": "execute_result"
    }
   ],
   "source": [
    "df3[\"vegetation\"].unique()"
   ]
  },
  {
   "cell_type": "code",
   "execution_count": 30,
   "metadata": {},
   "outputs": [],
   "source": [
    "names = {\n",
    "    \"Cerrado\": \"cerrado\",\n",
    "    \"Cerradão\": \"distrofic_cerradao\",\n",
    "    \"Mata\": \"mesotrofic_forest\",\n",
    "    \"Mata Mes. Semidec.\": \"mesotrofic_forest\",\n",
    "    \"campo cerrado\": \"campo_cerrado\",\n",
    "    \"campo sujo\": \"campo_sujo\",\n",
    "    \"mata semidecícua\": \"mesotrofic_forest\",\n",
    "    \"cerradão mesotrófico\": \"mesotrofic_cerradao\",\n",
    "    \"cerrado sensu stricto\": \"cerrado\",\n",
    "    \"cerrado denso\": \"distrofic_cerradao\",\n",
    "    \"cerradão distrófico\": \"distrofic_cerradao\"\n",
    "}"
   ]
  },
  {
   "cell_type": "code",
   "execution_count": 65,
   "metadata": {},
   "outputs": [
    {
     "name": "stderr",
     "output_type": "stream",
     "text": [
      "/tmp/ipykernel_7934/2612624977.py:1: SettingWithCopyWarning: \n",
      "A value is trying to be set on a copy of a slice from a DataFrame.\n",
      "Try using .loc[row_indexer,col_indexer] = value instead\n",
      "\n",
      "See the caveats in the documentation: https://pandas.pydata.org/pandas-docs/stable/user_guide/indexing.html#returning-a-view-versus-a-copy\n",
      "  df3.replace({\"vegetation\": names}, inplace=True)\n"
     ]
    }
   ],
   "source": [
    "# Replacing value names on vegetation column\n",
    "df3.replace({\"vegetation\": names}, inplace=True)"
   ]
  },
  {
   "cell_type": "code",
   "execution_count": 66,
   "metadata": {},
   "outputs": [
    {
     "data": {
      "text/plain": [
       "array(['cerrado', 'distrofic_cerradao', 'mesotrofic_forest',\n",
       "       'campo_cerrado', 'campo_sujo', 'mesotrofic_cerradao'], dtype=object)"
      ]
     },
     "execution_count": 66,
     "metadata": {},
     "output_type": "execute_result"
    }
   ],
   "source": [
    "df3[\"vegetation\"].unique()"
   ]
  },
  {
   "cell_type": "code",
   "execution_count": 67,
   "metadata": {},
   "outputs": [
    {
     "name": "stdout",
     "output_type": "stream",
     "text": [
      "<class 'pandas.core.frame.DataFrame'>\n",
      "Int64Index: 463 entries, 0 to 467\n",
      "Data columns (total 5 columns):\n",
      " #   Column      Non-Null Count  Dtype  \n",
      "---  ------      --------------  -----  \n",
      " 0   vegetation  463 non-null    object \n",
      " 1   nitrogen    463 non-null    float64\n",
      " 2   phosphorus  463 non-null    float64\n",
      " 3   potassium   463 non-null    float64\n",
      " 4   calcium     463 non-null    float64\n",
      "dtypes: float64(4), object(1)\n",
      "memory usage: 21.7+ KB\n"
     ]
    }
   ],
   "source": [
    "df3.info()"
   ]
  },
  {
   "cell_type": "markdown",
   "metadata": {},
   "source": [
    "#### Creating the model"
   ]
  },
  {
   "cell_type": "markdown",
   "metadata": {},
   "source": []
  }
 ],
 "metadata": {
  "kernelspec": {
   "display_name": "Python 3.8.10 ('venv': venv)",
   "language": "python",
   "name": "python3"
  },
  "language_info": {
   "codemirror_mode": {
    "name": "ipython",
    "version": 3
   },
   "file_extension": ".py",
   "mimetype": "text/x-python",
   "name": "python",
   "nbconvert_exporter": "python",
   "pygments_lexer": "ipython3",
   "version": "3.8.10"
  },
  "orig_nbformat": 4,
  "vscode": {
   "interpreter": {
    "hash": "3fcc8d81363bdcf180bd92d810a176ca1c7e39e22a26554d3268f48975e7294a"
   }
  }
 },
 "nbformat": 4,
 "nbformat_minor": 2
}
